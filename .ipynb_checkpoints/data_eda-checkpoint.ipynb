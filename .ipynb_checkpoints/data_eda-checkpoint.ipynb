{
 "cells": [
  {
   "cell_type": "code",
   "execution_count": 1,
   "metadata": {},
   "outputs": [],
   "source": [
    "import pandas as pd\n",
    "import matplotlib.pyplot as plt\n",
    "import seaborn as sns"
   ]
  },
  {
   "cell_type": "code",
   "execution_count": 2,
   "metadata": {},
   "outputs": [],
   "source": [
    "df = pd.read_csv('salary_data_cleaned.csv')"
   ]
  },
  {
   "cell_type": "code",
   "execution_count": 3,
   "metadata": {},
   "outputs": [
    {
     "data": {
      "text/html": [
       "<div>\n",
       "<style scoped>\n",
       "    .dataframe tbody tr th:only-of-type {\n",
       "        vertical-align: middle;\n",
       "    }\n",
       "\n",
       "    .dataframe tbody tr th {\n",
       "        vertical-align: top;\n",
       "    }\n",
       "\n",
       "    .dataframe thead th {\n",
       "        text-align: right;\n",
       "    }\n",
       "</style>\n",
       "<table border=\"1\" class=\"dataframe\">\n",
       "  <thead>\n",
       "    <tr style=\"text-align: right;\">\n",
       "      <th></th>\n",
       "      <th>Job Title</th>\n",
       "      <th>Salary Estimate</th>\n",
       "      <th>Job Description</th>\n",
       "      <th>Rating</th>\n",
       "      <th>Company Name</th>\n",
       "      <th>Location</th>\n",
       "      <th>Headquarters</th>\n",
       "      <th>Size</th>\n",
       "      <th>Founded</th>\n",
       "      <th>Type of ownership</th>\n",
       "      <th>...</th>\n",
       "      <th>max_salary</th>\n",
       "      <th>avg_salary</th>\n",
       "      <th>Company_text</th>\n",
       "      <th>job_state</th>\n",
       "      <th>age</th>\n",
       "      <th>r_studio</th>\n",
       "      <th>aws</th>\n",
       "      <th>excel</th>\n",
       "      <th>python</th>\n",
       "      <th>spark</th>\n",
       "    </tr>\n",
       "  </thead>\n",
       "  <tbody>\n",
       "    <tr>\n",
       "      <th>0</th>\n",
       "      <td>Data Scientist</td>\n",
       "      <td>$70K-$95K (Glassdoor est.)</td>\n",
       "      <td>Description\\n\\nPosition at Homes.com\\n\\nHomes....</td>\n",
       "      <td>4.3</td>\n",
       "      <td>Homes.com\\n4.3</td>\n",
       "      <td>Norfolk, VA</td>\n",
       "      <td>-1</td>\n",
       "      <td>201 to 500 Employees</td>\n",
       "      <td>1998</td>\n",
       "      <td>Company - Private</td>\n",
       "      <td>...</td>\n",
       "      <td>95</td>\n",
       "      <td>82.5</td>\n",
       "      <td>Homes.co</td>\n",
       "      <td>VA</td>\n",
       "      <td>22</td>\n",
       "      <td>0</td>\n",
       "      <td>0</td>\n",
       "      <td>1</td>\n",
       "      <td>1</td>\n",
       "      <td>0</td>\n",
       "    </tr>\n",
       "    <tr>\n",
       "      <th>1</th>\n",
       "      <td>Data Scientist</td>\n",
       "      <td>$70K-$95K (Glassdoor est.)</td>\n",
       "      <td>STRATACACHE provides salable customer experien...</td>\n",
       "      <td>3.6</td>\n",
       "      <td>STRATACACHE\\n3.6</td>\n",
       "      <td>Dayton, OH</td>\n",
       "      <td>-1</td>\n",
       "      <td>201 to 500 Employees</td>\n",
       "      <td>1999</td>\n",
       "      <td>Company - Private</td>\n",
       "      <td>...</td>\n",
       "      <td>95</td>\n",
       "      <td>82.5</td>\n",
       "      <td>STRATACACH</td>\n",
       "      <td>OH</td>\n",
       "      <td>21</td>\n",
       "      <td>0</td>\n",
       "      <td>0</td>\n",
       "      <td>1</td>\n",
       "      <td>1</td>\n",
       "      <td>0</td>\n",
       "    </tr>\n",
       "    <tr>\n",
       "      <th>2</th>\n",
       "      <td>Sr. Scientist</td>\n",
       "      <td>$70K-$95K (Glassdoor est.)</td>\n",
       "      <td>Job Description*\\nJoin a rapidly growing start...</td>\n",
       "      <td>-1.0</td>\n",
       "      <td>Stealth Mode Startup</td>\n",
       "      <td>Newark, CA</td>\n",
       "      <td>-1</td>\n",
       "      <td>-1</td>\n",
       "      <td>-1</td>\n",
       "      <td>-1</td>\n",
       "      <td>...</td>\n",
       "      <td>95</td>\n",
       "      <td>82.5</td>\n",
       "      <td>Stealth Mode Startup</td>\n",
       "      <td>CA</td>\n",
       "      <td>-1</td>\n",
       "      <td>0</td>\n",
       "      <td>0</td>\n",
       "      <td>1</td>\n",
       "      <td>0</td>\n",
       "      <td>0</td>\n",
       "    </tr>\n",
       "    <tr>\n",
       "      <th>3</th>\n",
       "      <td>Medical Laboratory Scientist</td>\n",
       "      <td>$70K-$95K (Glassdoor est.)</td>\n",
       "      <td>Job Summary:\\n\\nPerforms and interprets tests ...</td>\n",
       "      <td>3.8</td>\n",
       "      <td>Cleveland Clinic\\n3.8</td>\n",
       "      <td>Akron, OH</td>\n",
       "      <td>-1</td>\n",
       "      <td>10000+ Employees</td>\n",
       "      <td>1921</td>\n",
       "      <td>Nonprofit Organization</td>\n",
       "      <td>...</td>\n",
       "      <td>95</td>\n",
       "      <td>82.5</td>\n",
       "      <td>Cleveland Clini</td>\n",
       "      <td>OH</td>\n",
       "      <td>99</td>\n",
       "      <td>0</td>\n",
       "      <td>0</td>\n",
       "      <td>0</td>\n",
       "      <td>0</td>\n",
       "      <td>0</td>\n",
       "    </tr>\n",
       "    <tr>\n",
       "      <th>4</th>\n",
       "      <td>Product Development Scientist</td>\n",
       "      <td>$70K-$95K (Glassdoor est.)</td>\n",
       "      <td>What we do\\n\\nAbout United Therapeutics\\n\\nUni...</td>\n",
       "      <td>3.4</td>\n",
       "      <td>Cleveland Clinic\\n3.8</td>\n",
       "      <td>Akron, OH</td>\n",
       "      <td>-1</td>\n",
       "      <td>501 to 1000 Employees</td>\n",
       "      <td>1996</td>\n",
       "      <td>Company - Public</td>\n",
       "      <td>...</td>\n",
       "      <td>95</td>\n",
       "      <td>82.5</td>\n",
       "      <td>Cleveland Clini</td>\n",
       "      <td>OH</td>\n",
       "      <td>24</td>\n",
       "      <td>0</td>\n",
       "      <td>0</td>\n",
       "      <td>1</td>\n",
       "      <td>0</td>\n",
       "      <td>0</td>\n",
       "    </tr>\n",
       "  </tbody>\n",
       "</table>\n",
       "<p>5 rows × 27 columns</p>\n",
       "</div>"
      ],
      "text/plain": [
       "                       Job Title             Salary Estimate  \\\n",
       "0                 Data Scientist  $70K-$95K (Glassdoor est.)   \n",
       "1                 Data Scientist  $70K-$95K (Glassdoor est.)   \n",
       "2                  Sr. Scientist  $70K-$95K (Glassdoor est.)   \n",
       "3   Medical Laboratory Scientist  $70K-$95K (Glassdoor est.)   \n",
       "4  Product Development Scientist  $70K-$95K (Glassdoor est.)   \n",
       "\n",
       "                                     Job Description  Rating  \\\n",
       "0  Description\\n\\nPosition at Homes.com\\n\\nHomes....     4.3   \n",
       "1  STRATACACHE provides salable customer experien...     3.6   \n",
       "2  Job Description*\\nJoin a rapidly growing start...    -1.0   \n",
       "3  Job Summary:\\n\\nPerforms and interprets tests ...     3.8   \n",
       "4  What we do\\n\\nAbout United Therapeutics\\n\\nUni...     3.4   \n",
       "\n",
       "            Company Name     Location  Headquarters                   Size  \\\n",
       "0         Homes.com\\n4.3  Norfolk, VA            -1   201 to 500 Employees   \n",
       "1       STRATACACHE\\n3.6   Dayton, OH            -1   201 to 500 Employees   \n",
       "2   Stealth Mode Startup   Newark, CA            -1                     -1   \n",
       "3  Cleveland Clinic\\n3.8    Akron, OH            -1       10000+ Employees   \n",
       "4  Cleveland Clinic\\n3.8    Akron, OH            -1  501 to 1000 Employees   \n",
       "\n",
       "   Founded       Type of ownership  ... max_salary avg_salary  \\\n",
       "0     1998       Company - Private  ...         95       82.5   \n",
       "1     1999       Company - Private  ...         95       82.5   \n",
       "2       -1                      -1  ...         95       82.5   \n",
       "3     1921  Nonprofit Organization  ...         95       82.5   \n",
       "4     1996        Company - Public  ...         95       82.5   \n",
       "\n",
       "           Company_text  job_state  age  r_studio  aws  excel  python spark  \n",
       "0              Homes.co         VA   22         0    0      1       1     0  \n",
       "1            STRATACACH         OH   21         0    0      1       1     0  \n",
       "2  Stealth Mode Startup         CA   -1         0    0      1       0     0  \n",
       "3       Cleveland Clini         OH   99         0    0      0       0     0  \n",
       "4       Cleveland Clini         OH   24         0    0      1       0     0  \n",
       "\n",
       "[5 rows x 27 columns]"
      ]
     },
     "execution_count": 3,
     "metadata": {},
     "output_type": "execute_result"
    }
   ],
   "source": [
    "df.head()"
   ]
  },
  {
   "cell_type": "code",
   "execution_count": 11,
   "metadata": {},
   "outputs": [],
   "source": [
    "def title_simplifier(title):\n",
    "    if 'data scientist' in title.lower():\n",
    "        return 'data scientist'\n",
    "    elif 'data engineer' in title.lower():\n",
    "        return 'data engineer'\n",
    "    elif 'analyst' in title.lower():\n",
    "        return 'analyst'\n",
    "    elif 'machine learning' in title.lower():\n",
    "        return 'mle'\n",
    "    elif 'director' in title.lower():\n",
    "        return 'director'\n",
    "    else:\n",
    "        return 'na'\n",
    "    \n",
    "def seniority(title):\n",
    "    if 'sr' in title.lower() or 'senior' in title.lower() or 'sr.' in title.lower() or 'lead' in title.lower() or 'principal' in title.lower():\n",
    "        return 'senior'\n",
    "    elif 'jr' in title.lower() or 'jr.' or 'junior' in title.lower():\n",
    "        return 'jr'\n",
    "    else:\n",
    "        return 'na'"
   ]
  },
  {
   "cell_type": "code",
   "execution_count": 7,
   "metadata": {},
   "outputs": [],
   "source": [
    "df['job_simp'] = df['Job Title'].apply(title_simplifier)"
   ]
  },
  {
   "cell_type": "code",
   "execution_count": 8,
   "metadata": {},
   "outputs": [
    {
     "data": {
      "text/plain": [
       "data scientist    292\n",
       "na                136\n",
       "data engineer      60\n",
       "director            7\n",
       "mle                 3\n",
       "analyst             2\n",
       "Name: job_simp, dtype: int64"
      ]
     },
     "execution_count": 8,
     "metadata": {},
     "output_type": "execute_result"
    }
   ],
   "source": [
    "df.job_simp.value_counts()"
   ]
  },
  {
   "cell_type": "code",
   "execution_count": 12,
   "metadata": {},
   "outputs": [
    {
     "data": {
      "text/plain": [
       "jr        411\n",
       "senior     89\n",
       "Name: seniority, dtype: int64"
      ]
     },
     "execution_count": 12,
     "metadata": {},
     "output_type": "execute_result"
    }
   ],
   "source": [
    "df['seniority'] = df['Job Title'].apply(seniority)\n",
    "df.seniority.value_counts()"
   ]
  },
  {
   "cell_type": "code",
   "execution_count": 15,
   "metadata": {},
   "outputs": [],
   "source": [
    "#Job Description Length\n",
    "df['desc_len'] = df['Job Description'].apply(lambda x: len(x))\n",
    "#df['desc_len']"
   ]
  },
  {
   "cell_type": "code",
   "execution_count": 19,
   "metadata": {},
   "outputs": [
    {
     "data": {
      "text/plain": [
       "Series([], Name: Competitors, dtype: int64)"
      ]
     },
     "execution_count": 19,
     "metadata": {},
     "output_type": "execute_result"
    }
   ],
   "source": [
    "#Competitor count\n",
    "df['Competitors'][df['Competitors'] != -1]"
   ]
  },
  {
   "cell_type": "code",
   "execution_count": 30,
   "metadata": {},
   "outputs": [],
   "source": [
    "#Hourly wage to anual, annual = hourly * 2000 approx.\n",
    "df['min_salary'] = df.apply(lambda x: x.min_salary*2 if x.hourly == 1 else x.min_salary, axis = 1)\n",
    "df['max_salary'] = df.apply(lambda x: x.min_salary*2 if x.hourly == 1 else x.max_salary, axis = 1)"
   ]
  },
  {
   "cell_type": "code",
   "execution_count": null,
   "metadata": {},
   "outputs": [],
   "source": []
  }
 ],
 "metadata": {
  "kernelspec": {
   "display_name": "Python 3",
   "language": "python",
   "name": "python3"
  },
  "language_info": {
   "codemirror_mode": {
    "name": "ipython",
    "version": 3
   },
   "file_extension": ".py",
   "mimetype": "text/x-python",
   "name": "python",
   "nbconvert_exporter": "python",
   "pygments_lexer": "ipython3",
   "version": "3.7.6"
  }
 },
 "nbformat": 4,
 "nbformat_minor": 4
}
